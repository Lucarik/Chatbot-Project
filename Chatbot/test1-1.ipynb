{
 "cells": [
  {
   "cell_type": "code",
   "execution_count": 1,
   "id": "95d0e26c-20a1-4684-88ae-cdbd020703c2",
   "metadata": {},
   "outputs": [],
   "source": [
    "from __future__ import unicode_literals, print_function, division\n",
    "from io import open\n",
    "import unicodedata\n",
    "import string\n",
    "import re\n",
    "import random\n",
    "import os\n",
    "import time\n",
    "import numpy as np\n",
    "import pandas as pd\n",
    "import tqdm\n",
    "import torch\n",
    "import torch.nn as nn\n",
    "import torch.nn.functional as F\n",
    "from torch import optim\n",
    "from torch.utils.data import DataLoader, Dataset\n",
    "from torch.nn.utils.rnn import pad_sequence\n",
    "from datasets import load_dataset\n",
    "\n",
    "# import huggingface transformers\n",
    "from transformers import GPT2LMHeadModel, GPT2Tokenizer, GPT2Config, AdamW"
   ]
  },
  {
   "cell_type": "code",
   "execution_count": 3,
   "id": "07d04a55-0113-4153-bb0e-81ce40dea71e",
   "metadata": {},
   "outputs": [],
   "source": [
    "device = torch.device(\"cuda\" if torch.cuda.is_available() else \"cpu\")"
   ]
  },
  {
   "cell_type": "code",
   "execution_count": 4,
   "id": "cb36b811-7c17-4807-888d-d14815ca2632",
   "metadata": {},
   "outputs": [
    {
     "name": "stderr",
     "output_type": "stream",
     "text": [
      "Using custom data configuration default\n",
      "Reusing dataset cornell_movie_dialog (C:\\Users\\justi\\.cache\\huggingface\\datasets\\cornell_movie_dialog\\default\\0.1.0\\b67b3433cf894b551cddcd82efdff0826f39b39a11d5c149e746a546a8dc85f3)\n"
     ]
    }
   ],
   "source": [
    "raw_dataset = load_dataset(\"cornell_movie_dialog\")"
   ]
  },
  {
   "cell_type": "code",
   "execution_count": 5,
   "id": "127ae4cc-1401-45f4-a0c1-dfe9190008a6",
   "metadata": {},
   "outputs": [
    {
     "data": {
      "text/plain": [
       "DatasetDict({\n",
       "    train: Dataset({\n",
       "        features: ['movieID', 'movieTitle', 'movieYear', 'movieIMDBRating', 'movieNoIMDBVotes', 'movieGenres', 'characterID1', 'characterID2', 'characterName1', 'characterName2', 'utterance'],\n",
       "        num_rows: 83097\n",
       "    })\n",
       "})"
      ]
     },
     "execution_count": 5,
     "metadata": {},
     "output_type": "execute_result"
    }
   ],
   "source": [
    "raw_dataset"
   ]
  },
  {
   "cell_type": "code",
   "execution_count": 6,
   "id": "25211b97-a9c2-4f20-b321-e36d58eb0ced",
   "metadata": {},
   "outputs": [],
   "source": [
    "train_dataset = raw_dataset[\"train\"]"
   ]
  },
  {
   "cell_type": "code",
   "execution_count": 7,
   "id": "2bc74598-d1a0-4dba-bc66-a99dac5895db",
   "metadata": {},
   "outputs": [
    {
     "data": {
      "text/plain": [
       "Dataset({\n",
       "    features: ['movieID', 'movieTitle', 'movieYear', 'movieIMDBRating', 'movieNoIMDBVotes', 'movieGenres', 'characterID1', 'characterID2', 'characterName1', 'characterName2', 'utterance'],\n",
       "    num_rows: 83097\n",
       "})"
      ]
     },
     "execution_count": 7,
     "metadata": {},
     "output_type": "execute_result"
    }
   ],
   "source": [
    "train_dataset"
   ]
  },
  {
   "cell_type": "code",
   "execution_count": 9,
   "id": "45422a25-8560-4a65-b239-97ad07029143",
   "metadata": {},
   "outputs": [
    {
     "data": {
      "text/plain": [
       "{'movieID': ' m0 ',\n",
       " 'movieTitle': ' 10 things i hate about you ',\n",
       " 'movieYear': ' 1999 ',\n",
       " 'movieIMDBRating': ' 6.90 ',\n",
       " 'movieNoIMDBVotes': ' 62847 ',\n",
       " 'movieGenres': ['comedy', 'romance'],\n",
       " 'characterID1': 'u0 ',\n",
       " 'characterID2': ' u2 ',\n",
       " 'characterName1': ' BIANCA ',\n",
       " 'characterName2': ' CAMERON ',\n",
       " 'utterance': {'text': ['L194 ', 'L195 ', 'L196 ', 'L197 '],\n",
       "  'LineID': ['L194', 'L195', 'L196', 'L197']}}"
      ]
     },
     "execution_count": 9,
     "metadata": {},
     "output_type": "execute_result"
    }
   ],
   "source": [
    "train_dataset[0]"
   ]
  },
  {
   "cell_type": "code",
   "execution_count": null,
   "id": "73bb70b0-9b77-441b-a738-f0e733c4ad0c",
   "metadata": {},
   "outputs": [],
   "source": []
  }
 ],
 "metadata": {
  "kernelspec": {
   "display_name": "Python 3 (ipykernel)",
   "language": "python",
   "name": "python3"
  },
  "language_info": {
   "codemirror_mode": {
    "name": "ipython",
    "version": 3
   },
   "file_extension": ".py",
   "mimetype": "text/x-python",
   "name": "python",
   "nbconvert_exporter": "python",
   "pygments_lexer": "ipython3",
   "version": "3.8.8"
  }
 },
 "nbformat": 4,
 "nbformat_minor": 5
}
